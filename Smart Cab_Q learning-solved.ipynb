{
 "cells": [
  {
   "cell_type": "code",
   "execution_count": 1,
   "metadata": {},
   "outputs": [
    {
     "name": "stdout",
     "output_type": "stream",
     "text": [
      "+---------+\n",
      "|R: | : :G|\n",
      "| : | : : |\n",
      "| : : : : |\n",
      "| | : | : |\n",
      "|Y| : |B: |\n",
      "+---------+\n",
      "\n"
     ]
    }
   ],
   "source": [
    "# Functionalities are explained in comments where required\n",
    "# Some lines of codes are also commented that you may uncomment to see some of the results which lead to the final results\n",
    "# Importing libraries here that are required\n",
    "\n",
    "import gym\n",
    "import numpy as np\n",
    "import random\n",
    "import math\n",
    "from collections import deque\n",
    "import collections\n",
    "import pickle\n",
    "import spacy\n",
    "import re\n",
    "import pandas as pd\n",
    "from IPython.display import clear_output\n",
    "import matplotlib.pyplot as plt\n",
    "env = gym.make(\"Taxi-v3\").env\n",
    "env.render()"
   ]
  },
  {
   "cell_type": "markdown",
   "metadata": {},
   "source": [
    "#### There are 4 locations (labeled by different letters), and our job is to pick up the passenger at one location and drop him off at another. We receive +20 points for a successful drop-off and lose 1 point for every time-step it takes. There is also a 10 point penalty for illegal pick-up and drop-off actions.\""
   ]
  },
  {
   "cell_type": "markdown",
   "metadata": {},
   "source": [
    "### Fetching Origing, Destination, and Time of Pickup from the sms data "
   ]
  },
  {
   "cell_type": "code",
   "execution_count": 2,
   "metadata": {},
   "outputs": [],
   "source": [
    "#This function gets a string arguement which in our case will be a sentence\n",
    "#What it does is fetches the origin location, destination, time of travelling\n",
    "#And returns this information in form of a list\n",
    "\n",
    "#Evaluation Task 1.Take text from \"sms.txt\" and fetch pickup and drop from it.\n",
    "\n",
    "def fetch_pickup_drop(text):\n",
    "    \n",
    "    time_of_pickup=re.findall(r'\\d{1,2} AM|\\d{1,2} PM',text)[0]\n",
    "    fromloc=re.findall(r'from dwarka sector 23|from dwarka sector 21|from hauz khaas|from airport|airport to|hauz khaas to|dwarka sector 21 to|dwarka sector 23 to',text)\n",
    "    toloc=re.findall(r'to hauz khaas|to dwarka sector 21|to dwarka sector 23|to airport|for dwarka sector 23|for airport|for dwarka sector 21|for hauz khaas',text)\n",
    "    origin=re.findall(r'hauz khaas|airport|dwarka sector 21|dwarka sector 23',fromloc[0])[0]\n",
    "    destination=re.findall(r'hauz khaas|airport|dwarka sector 21|dwarka sector 23',toloc[0])[0]\n",
    "    #print(origin,destination,time_of_pickup)\n",
    "    return [origin, destination, time_of_pickup]"
   ]
  },
  {
   "cell_type": "code",
   "execution_count": 3,
   "metadata": {},
   "outputs": [
    {
     "name": "stdout",
     "output_type": "stream",
     "text": [
      "+---------+\n",
      "|R: | : :G|\n",
      "| : | : : |\n",
      "| : : : : |\n",
      "| | : | : |\n",
      "|Y| : |B: |\n",
      "+---------+\n",
      "\n",
      "Action Space Discrete(6)\n",
      "State Space Discrete(500)\n"
     ]
    }
   ],
   "source": [
    "env.reset() # reset environment to a new, random state\n",
    "env.render()\n",
    "\n",
    "print(\"Action Space {}\".format(env.action_space))\n",
    "print(\"State Space {}\".format(env.observation_space))"
   ]
  },
  {
   "cell_type": "markdown",
   "metadata": {},
   "source": [
    "## Summing up the Q-Learning Process\n",
    "Breaking it down into steps, we get\n",
    "\n",
    "Initialize the Q-table by all zeros.\n",
    "\n",
    "Start exploring actions: \n",
    "\n",
    "For each state, select any one among all possible actions for the current state (S).\n",
    "\n",
    "Travel to the next state (S') as a result of that action (a).\n",
    "\n",
    "For all possible actions from the state (S') select the one with the highest Q-value.\n",
    "\n",
    "Update Q-table values using the equation.\n",
    "\n",
    "Set the next state as the current state.\n",
    "\n",
    "If goal state is reached, then end and repeat the process.\n"
   ]
  },
  {
   "cell_type": "markdown",
   "metadata": {},
   "source": [
    "## Exploiting learned values\n",
    "After enough random exploration of actions, the Q-values tend to converge serving our agent as an action-value function which it can exploit to pick the most optimal action from a given state.\n",
    "\n",
    "There's a tradeoff between exploration (choosing a random action) and exploitation (choosing actions based on already learned Q-values). We want to prevent the action from always taking the same route, and possibly overfitting, so we'll be introducing another parameter called ϵ \"epsilon\" to cater to this during training.\n",
    "\n",
    "Instead of just selecting the best learned Q-value action, we'll sometimes favor exploring the action space further. Lower epsilon value results in episodes with more penalties (on average) which is obvious because we are exploring and making random decisions."
   ]
  },
  {
   "cell_type": "code",
   "execution_count": 4,
   "metadata": {},
   "outputs": [],
   "source": [
    "#Initialize Q_table\n",
    "\n",
    "q_table = np.zeros([env.observation_space.n,env.action_space.n])"
   ]
  },
  {
   "cell_type": "code",
   "execution_count": 5,
   "metadata": {},
   "outputs": [
    {
     "name": "stdout",
     "output_type": "stream",
     "text": [
      "Episode  100000\n",
      "Training completed\n"
     ]
    }
   ],
   "source": [
    "#Task-Training the agent\n",
    "#Train the model using Q learning algorithm on tax v3 environment\n",
    "\n",
    "#Initializing the hyperparameters\n",
    "alpha = 0.1\n",
    "gamma = 0.9\n",
    "epsilon = 0.1\n",
    "\n",
    "# For plotting metrics\n",
    "all_epochs = []\n",
    "all_penalties = []\n",
    "\n",
    "for i in range(1,100001):\n",
    "    state=env.reset()\n",
    "    \n",
    "    epochs,penalties,reward=0,0,0\n",
    "    done=False\n",
    "    \n",
    "    while not done:\n",
    "        if random.uniform(0,1)<epsilon: #choosing between exploration and exploitation\n",
    "            action=env.action_space.sample()\n",
    "        else:\n",
    "            action=np.argmax(q_table[state])\n",
    "            \n",
    "        next_state, reward, done, info=env.step(action)\n",
    "        \n",
    "        old_value=q_table[state, action]\n",
    "        next_max=np.max(q_table[next_state])\n",
    "        \n",
    "        new_value=(1-alpha)*old_value+alpha*(reward+gamma*next_max) #updating the value\n",
    "        q_table[state,action]=new_value\n",
    "        \n",
    "        if reward==-10:\n",
    "            penalties+=1\n",
    "        \n",
    "        state=next_state\n",
    "        epochs+=1\n",
    "        \n",
    "        if i%100==0:\n",
    "            clear_output(wait=True)\n",
    "            print(\"Episode \",i) #shows progress every 100 episodes of training\n",
    "        \n",
    "print(\"Training completed\")\n",
    "\n",
    "np.save(\"./q_table.npy\", q_table)"
   ]
  },
  {
   "cell_type": "code",
   "execution_count": 6,
   "metadata": {},
   "outputs": [],
   "source": [
    "#Load trained q_table for evaluation\n",
    "\n",
    "q_table = np.load(\"./q_table.npy\")"
   ]
  },
  {
   "cell_type": "code",
   "execution_count": 7,
   "metadata": {},
   "outputs": [],
   "source": [
    "## Create dictionary example, loc_dict['dwarka sector 23] = 0\n",
    "\n",
    "def create_loc_dict(city_df):\n",
    "    loc_dict = {}\n",
    "    \n",
    "    for index,row in city_df.iterrows():\n",
    "        #print(row)\n",
    "        loc_dict[row['location']]=row['mapping']\n",
    "    \n",
    "    return loc_dict"
   ]
  },
  {
   "cell_type": "code",
   "execution_count": 8,
   "metadata": {},
   "outputs": [],
   "source": [
    "#Checks if the pickup and drop location is correct or not\n",
    "\n",
    "#Evaluation Task 4.Have a check if the fetched pickup, drop is not matching with original pickup, drop given in “orig_df.csv\"\n",
    "\n",
    "def check_pick_up_drop_correction(pick_up, drop, line_num):\n",
    "    \n",
    "    orig_df=pd.read_csv('org_df.csv')\n",
    "    original_origin=orig_df.iloc[line_num]['origin']\n",
    "    original_destination=orig_df.iloc[line_num]['dest']\n",
    "    \n",
    "    if original_origin == pick_up and original_destination == drop:\n",
    "        return True\n",
    "    else:\n",
    "        return False"
   ]
  },
  {
   "cell_type": "code",
   "execution_count": 9,
   "metadata": {},
   "outputs": [],
   "source": [
    "#Tasks-\"\"Evaluate agent's performance after Q-learning\"\"\"\n",
    "\n",
    "# 1) We need to take text drom \"sms.txt\" and fetch pickup and drop from it.\n",
    "# 2) Generate the random state from an enviroment and change the pick up and drop as the fetched one\n",
    "# 3) Evaluate you q_table performance on all the texts given in sms.txt.\n",
    "# 4) Have a check if the fetched pickup, drop is not matching with original pickup, drop using orig.csv\n",
    "# 5) If fetched pickup or/and drop does not match with the original, add penality and reward -10\n",
    "# 6) Calculate the Total reward, penalities, Wrong pickup/drop predicted and Average time steps per episode.\n",
    "\n",
    "total_epochs, total_penalties, total_reward, wrong_predictions = 0, 0, 0, 0\n",
    "\n",
    "info=pd.DataFrame(columns=['origin','destination','time'])\n",
    "count=0\n",
    "time_list=[]\n",
    "f=open(\"sms.txt\",\"r\")\n",
    "num_of_lines=1000\n",
    "city=pd.read_csv(\"city.csv\")\n",
    "#print(city.columns)\n",
    "loc_dict=create_loc_dict(city)\n",
    "line_num=0\n",
    "\n",
    "timeeval={} #stores number of taxis booked at given times\n",
    "for i in range(1,13):\n",
    "    timeeval[str(i)+\" AM\"]=0\n",
    "    timeeval[str(i)+\" PM\"]=0\n",
    "    \n",
    "    #Evaluation task 3.) Evaluate you model performance on all the texts given in sms.txt. We have generated text for four locations given in city.csv\n",
    "    \n",
    "for i in range(1,1001):\n",
    "    line=f.readline()\n",
    "    #print(line)\n",
    "    l=fetch_pickup_drop(line)\n",
    "    \n",
    "    # Evaluation Task 1.) We need to take text drom \"sms.txt\" and fetch pickup and drop from it.\n",
    "    \n",
    "    pick_up=l[0]\n",
    "    drop=l[1]    \n",
    "    temptime=l[2]\n",
    "    timeeval[temptime]+=1 #counting how many taxis are booked at given times    \n",
    "    \n",
    "    #Evaluation Task 4.) Have a check if the fetched pickup, drop is not matching with original pickup, drop given in “orig_df.csv”\n",
    "    \n",
    "    decision=check_pick_up_drop_correction(pick_up,drop,line_num)\n",
    "    \n",
    "    #Evaluation Task 5.) If fetched pickup or/and drop does not match with the original, add penalty and reward -10\n",
    "    \n",
    "    if not decision:\n",
    "        total_penalties+=1\n",
    "        reward-=10\n",
    "        total_reward+=reward\n",
    "        wrong_predictions+=1\n",
    "        \n",
    "    pickUp_idx=loc_dict[pick_up]\n",
    "    drop_idx=loc_dict[drop] \n",
    "    \n",
    "    #Evaluation Task 2.) Generate the random state from an environment and change the pick-up and drop as the fetched one from sms.tx\n",
    "    \n",
    "    act_state=env.reset()\n",
    "    \n",
    "    #print(\"Actual state \",act_state)    \n",
    "    #now let's decode the state       \n",
    "    \n",
    "    taxi_row,taxi_col,pick_up,drop=env.decode(act_state)\n",
    "    state=env.encode(taxi_row,taxi_col,int(pickUp_idx),int(drop_idx))\n",
    "    \n",
    "    #print(\"New state generated \",state)\n",
    "    \n",
    "    epochs,penalties,reward=0,0,0        \n",
    "    done=False\n",
    "    \n",
    "    while not done:\n",
    "        \n",
    "        action=np.argmax(q_table[state])\n",
    "        state,reward,done,info=env.step(action)\n",
    "        total_reward+=reward\n",
    "        \n",
    "        if reward==-10:\n",
    "            penalties+=1    \n",
    "        epochs+=1     \n",
    "        \n",
    "     #Evaluation Task 6.) Calculate the Total reward, penalties, Wrong pickup/drop predicted and Average time steps per episode\n",
    "    \n",
    "    total_penalties+=penalties\n",
    "    total_epochs+=epochs\n",
    "    line_num+=1"
   ]
  },
  {
   "cell_type": "code",
   "execution_count": 10,
   "metadata": {},
   "outputs": [
    {
     "name": "stdout",
     "output_type": "stream",
     "text": [
      "Results after 1000 episodes:\n",
      "Average timesteps per episode: 13.781\n",
      "Average penalties per episode: 0.04\n",
      "Total number of wrong predictions 0\n",
      "Total Reward is 6859\n"
     ]
    }
   ],
   "source": [
    "#Printing the results i.e Total reward, penalities, Wrong pickup/drop predicted and Average time steps per episode\n",
    "\n",
    "print(f\"Results after {num_of_lines} episodes:\")\n",
    "print(f\"Average timesteps per episode: {total_epochs / num_of_lines}\")\n",
    "print(f\"Average penalties per episode: {total_penalties / num_of_lines}\")\n",
    "print(f\"Total number of wrong predictions\", wrong_predictions)\n",
    "print(\"Total Reward is\", total_reward)"
   ]
  },
  {
   "cell_type": "code",
   "execution_count": 11,
   "metadata": {},
   "outputs": [
    {
     "data": {
      "image/png": "[encoded data removed]",
      "text/plain": [
       "<Figure size 576x576 with 1 Axes>"
      ]
     },
     "metadata": {
      "needs_background": "light"
     },
     "output_type": "display_data"
    },
    {
     "data": {
      "image/png": "[encoded data removed]",
      "text/plain": [
       "<Figure size 576x576 with 1 Axes>"
      ]
     },
     "metadata": {
      "needs_background": "light"
     },
     "output_type": "display_data"
    }
   ],
   "source": [
    "#Plotting the number of cabs booked over time in AM as well as PM\n",
    "\n",
    "x11 = [(str(i)+\" AM\") for i in range(1,13)]\n",
    "x22 = [(str(i)+\" PM\") for i in range(1,13)]\n",
    "y11 = [timeeval[i] for i in x11]\n",
    "y22 = [timeeval[i] for i in x22]\n",
    "plt.figure(figsize=(8,8))\n",
    "plt.bar(x11,y11)\n",
    "plt.title(\"Number of cabs booked during 12:01AM-11:59AM\")\n",
    "plt.figure(figsize=(8,8))\n",
    "plt.bar(x22,y22)\n",
    "plt.title(\"Number of cabs booked during 12:01PM-11:59PM\")\n",
    "plt.show()\n",
    "\n",
    "#We can see between 12:01AM-11:59AM the maximum number of cabs booked are around 9AM which makes sense as people leave for work\n",
    "#We can see between 12:01AM-11:59AM the minimum number of cabs booked are around 7AM as most people are sleeping or at home\n",
    "#We can see between 12:01PM-11:59PM the maximum number of cabs booked are around 7PM\n",
    "#We can see between 12:01PM-11:59PM the minimum number of cabs booked are around 8PM"
   ]
  },
  {
   "cell_type": "code",
   "execution_count": 12,
   "metadata": {},
   "outputs": [
    {
     "name": "stdout",
     "output_type": "stream",
     "text": [
      "Results after 1000 episodes:\n",
      "Average timesteps per episode: 13.781\n",
      "Average penalties per episode: 0.04\n",
      "Total number of wrong predictions 0\n",
      "Total Reward is 6859\n"
     ]
    }
   ],
   "source": [
    "#Conclusion\n",
    "#Printing the results i.e Total reward, penalities, Wrong pickup/drop predicted and Average time steps per episode\n",
    "\n",
    "print(f\"Results after {num_of_lines} episodes:\")\n",
    "print(f\"Average timesteps per episode: {total_epochs / num_of_lines}\")\n",
    "print(f\"Average penalties per episode: {total_penalties / num_of_lines}\")\n",
    "print(f\"Total number of wrong predictions\", wrong_predictions)\n",
    "print(\"Total Reward is\", total_reward)"
   ]
  },
  {
   "cell_type": "code",
   "execution_count": null,
   "metadata": {},
   "outputs": [],
   "source": []
  },
  {
   "cell_type": "code",
   "execution_count": null,
   "metadata": {},
   "outputs": [],
   "source": []
  },
  {
   "cell_type": "code",
   "execution_count": null,
   "metadata": {},
   "outputs": [],
   "source": []
  }
 ],
 "metadata": {
  "kernelspec": {
   "display_name": "Python 3",
   "language": "python",
   "name": "python3"
  },
  "language_info": {
   "codemirror_mode": {
    "name": "ipython",
    "version": 3
   },
   "file_extension": ".py",
   "mimetype": "text/x-python",
   "name": "python",
   "nbconvert_exporter": "python",
   "pygments_lexer": "ipython3",
   "version": "3.7.4"
  }
 },
 "nbformat": 4,
 "nbformat_minor": 2
}
